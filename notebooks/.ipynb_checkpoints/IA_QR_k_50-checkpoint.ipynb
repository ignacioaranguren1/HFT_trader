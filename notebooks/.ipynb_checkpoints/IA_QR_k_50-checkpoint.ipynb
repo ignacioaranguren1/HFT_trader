{
 "cells": [
  {
   "cell_type": "code",
   "execution_count": 1,
   "id": "b8872fcd",
   "metadata": {},
   "outputs": [],
   "source": [
    "from sklearn.preprocessing import MinMaxScaler\n",
    "from tqdm import tqdm\n",
    "from tensorflow import keras\n",
    "from tensorflow.keras import layers\n",
    "from tensorflow.keras.models import Sequential\n",
    "from keras.layers import Flatten, Dense, Dropout, Activation, Input, LSTM, Reshape, Conv2D, MaxPooling2D\n",
    "from keras.models import load_model, Model\n",
    "from tensorflow.keras.utils import to_categorical\n",
    "from keras_tuner.tuners import RandomSearch\n",
    "from sklearn.metrics import classification_report, accuracy_score\n",
    "from sklearn.metrics import multilabel_confusion_matrix\n",
    "from keras.layers import LeakyReLU\n",
    "\n",
    "import keras_tuner\n",
    "import pandas as pd\n",
    "import numpy as np\n",
    "import os\n",
    "import pickle\n",
    "import matplotlib.pyplot as plt"
   ]
  },
  {
   "cell_type": "markdown",
   "id": "2737cffa",
   "metadata": {},
   "source": [
    "## Data loading and preprocessing"
   ]
  },
  {
   "cell_type": "code",
   "execution_count": 2,
   "id": "40c6a507",
   "metadata": {},
   "outputs": [],
   "source": [
    "datapath = r'/Users/ignacioaranguren/QR_assignment/'\n",
    "os.chdir(datapath)"
   ]
  },
  {
   "cell_type": "code",
   "execution_count": 15,
   "id": "50e60f4d",
   "metadata": {},
   "outputs": [],
   "source": [
    "columns=['Matching Time', 'Receiving Time', 'Symbol']\n",
    "for i in range(1,11):\n",
    "    columns += [f'BID_PRICE{i}', f'BID_QTY_{i}', f'ASK_PRICE_{i}', f'ASK_QTY_{i}']"
   ]
  },
  {
   "cell_type": "code",
   "execution_count": 16,
   "id": "3b51cf83",
   "metadata": {},
   "outputs": [],
   "source": [
    "df_train_tmp = pd.read_csv(f'data/exchange1_20210519.csv', names=columns).set_index('Matching Time').append(pd.read_csv(f'data/exchange1_20210520.csv', names=columns).set_index('Matching Time'))\n",
    "df_test_tmp = pd.read_csv(f'data/exchange1_20210521.csv', names=columns).set_index('Matching Time')"
   ]
  },
  {
   "cell_type": "code",
   "execution_count": 43,
   "id": "ab8c0d21",
   "metadata": {},
   "outputs": [],
   "source": [
    "scaler = MinMaxScaler()\n",
    "scaler.fit(df_train_tmp[df_train_tmp.columns[2:]])\n",
    "df_train_tmp[df_train_tmp.columns[2:]] = scaler.fit_transform(df_train_tmp[df_train_tmp.columns[2:]])\n",
    "scaler = MinMaxScaler()\n",
    "scaler.fit(df_test_tmp[df_test_tmp.columns[2:]])\n",
    "df_test_tmp[df_test_tmp.columns[2:]] = scaler.fit_transform(df_test_tmp[df_test_tmp.columns[2:]])"
   ]
  },
  {
   "cell_type": "code",
   "execution_count": 18,
   "id": "66efddc6",
   "metadata": {},
   "outputs": [],
   "source": [
    "df_train_tmp['MID_PRICE'] = (df_train_tmp['BID_PRICE1'] + df_train_tmp['ASK_PRICE_1']) / 2\n",
    "df_test_tmp['MID_PRICE'] = (df_test_tmp['BID_PRICE1'] + df_test_tmp['ASK_PRICE_1']) / 2"
   ]
  },
  {
   "cell_type": "code",
   "execution_count": 19,
   "id": "98bc1092",
   "metadata": {},
   "outputs": [],
   "source": [
    "def mid_price_trend(df, k, alpha):\n",
    "    # Contiguous mid values may be noisy. We need to smooth them by calculating the mean to infere the price trend\n",
    "    trend = []\n",
    "    for i in tqdm(range(k//2, len(df['MID_PRICE']) - k//2)):\n",
    "        prev_k_mid_prices = df.iloc[i - k//2: i, -1].mean()\n",
    "        next_k_mid_prices = df.iloc[i: i + k//2, -1].mean()\n",
    "        if prev_k_mid_prices < next_k_mid_prices * (1 + alpha):\n",
    "            trend += [1]\n",
    "        elif prev_k_mid_prices > next_k_mid_prices * (1 - alpha):\n",
    "            trend += [-1]\n",
    "        else:\n",
    "            trend += [0]\n",
    "    return trend"
   ]
  },
  {
   "cell_type": "code",
   "execution_count": 3,
   "id": "4043a431",
   "metadata": {},
   "outputs": [],
   "source": [
    "K_HORIZON = 50\n",
    "ALPHA = 0"
   ]
  },
  {
   "cell_type": "code",
   "execution_count": 20,
   "id": "f3ca3686",
   "metadata": {},
   "outputs": [
    {
     "name": "stderr",
     "output_type": "stream",
     "text": [
      "100%|███████████████████████████████| 4523834/4523834 [20:03<00:00, 3759.87it/s]\n"
     ]
    }
   ],
   "source": [
    "trend_train = mid_price_trend(df_train_tmp, K_HORIZON, ALPHA)\n",
    "df_train_tmp['TREND_MID_PRICE'] = pd.Series(trend_train, index=df_train_tmp.index[K_HORIZON//2:-K_HORIZON//2]) \n",
    "df_train_tmp = df_train_tmp.dropna()"
   ]
  },
  {
   "cell_type": "code",
   "execution_count": 46,
   "id": "172ed7da",
   "metadata": {},
   "outputs": [
    {
     "name": "stderr",
     "output_type": "stream",
     "text": [
      "100%|███████████████████████████████| 2403120/2403120 [11:01<00:00, 3632.05it/s]\n"
     ]
    }
   ],
   "source": [
    "trend_test = mid_price_trend(df_test_tmp, K_HORIZON, ALPHA)\n",
    "df_test_tmp['TREND_MID_PRICE'] = pd.Series(data=trend_test, index=df_test_tmp.index[K_HORIZON//2:-K_HORIZON//2]) \n",
    "df_test_tmp = df_test_tmp.dropna()"
   ]
  },
  {
   "cell_type": "code",
   "execution_count": 48,
   "id": "ed31bcfd",
   "metadata": {},
   "outputs": [],
   "source": [
    "with open('data/trend_train.pkl','wb') as f:\n",
    "    pickle.dump(trend_train,f)\n",
    "with open('data/trend_test.pkl','wb') as f:\n",
    "    pickle.dump(trend_test,f)"
   ]
  },
  {
   "cell_type": "code",
   "execution_count": 49,
   "id": "232bbb68",
   "metadata": {},
   "outputs": [
    {
     "data": {
      "text/html": [
       "<div>\n",
       "<style scoped>\n",
       "    .dataframe tbody tr th:only-of-type {\n",
       "        vertical-align: middle;\n",
       "    }\n",
       "\n",
       "    .dataframe tbody tr th {\n",
       "        vertical-align: top;\n",
       "    }\n",
       "\n",
       "    .dataframe thead th {\n",
       "        text-align: right;\n",
       "    }\n",
       "</style>\n",
       "<table border=\"1\" class=\"dataframe\">\n",
       "  <thead>\n",
       "    <tr style=\"text-align: right;\">\n",
       "      <th></th>\n",
       "      <th>BID_PRICE1</th>\n",
       "      <th>BID_QTY_1</th>\n",
       "      <th>ASK_PRICE_1</th>\n",
       "      <th>ASK_QTY_1</th>\n",
       "      <th>BID_PRICE2</th>\n",
       "      <th>BID_QTY_2</th>\n",
       "      <th>ASK_PRICE_2</th>\n",
       "      <th>ASK_QTY_2</th>\n",
       "      <th>BID_PRICE3</th>\n",
       "      <th>BID_QTY_3</th>\n",
       "      <th>...</th>\n",
       "      <th>BID_PRICE9</th>\n",
       "      <th>BID_QTY_9</th>\n",
       "      <th>ASK_PRICE_9</th>\n",
       "      <th>ASK_QTY_9</th>\n",
       "      <th>BID_PRICE10</th>\n",
       "      <th>BID_QTY_10</th>\n",
       "      <th>ASK_PRICE_10</th>\n",
       "      <th>ASK_QTY_10</th>\n",
       "      <th>MID_PRICE</th>\n",
       "      <th>TREND_MID_PRICE</th>\n",
       "    </tr>\n",
       "  </thead>\n",
       "  <tbody>\n",
       "    <tr>\n",
       "      <th>count</th>\n",
       "      <td>4.523834e+06</td>\n",
       "      <td>4.523834e+06</td>\n",
       "      <td>4.523834e+06</td>\n",
       "      <td>4.523834e+06</td>\n",
       "      <td>4.523834e+06</td>\n",
       "      <td>4.523834e+06</td>\n",
       "      <td>4.523834e+06</td>\n",
       "      <td>4.523834e+06</td>\n",
       "      <td>4.523834e+06</td>\n",
       "      <td>4.523834e+06</td>\n",
       "      <td>...</td>\n",
       "      <td>4.523834e+06</td>\n",
       "      <td>4.523834e+06</td>\n",
       "      <td>4.523834e+06</td>\n",
       "      <td>4.523834e+06</td>\n",
       "      <td>4.523834e+06</td>\n",
       "      <td>4.523834e+06</td>\n",
       "      <td>4.523834e+06</td>\n",
       "      <td>4.523834e+06</td>\n",
       "      <td>4.523834e+06</td>\n",
       "      <td>4.523834e+06</td>\n",
       "    </tr>\n",
       "    <tr>\n",
       "      <th>mean</th>\n",
       "      <td>7.243821e-01</td>\n",
       "      <td>1.708144e-03</td>\n",
       "      <td>7.225771e-01</td>\n",
       "      <td>2.263201e-03</td>\n",
       "      <td>7.243012e-01</td>\n",
       "      <td>1.370089e-03</td>\n",
       "      <td>7.222453e-01</td>\n",
       "      <td>1.767904e-03</td>\n",
       "      <td>7.243990e-01</td>\n",
       "      <td>1.441991e-03</td>\n",
       "      <td>...</td>\n",
       "      <td>7.257778e-01</td>\n",
       "      <td>1.743569e-03</td>\n",
       "      <td>7.198844e-01</td>\n",
       "      <td>2.438937e-03</td>\n",
       "      <td>7.262220e-01</td>\n",
       "      <td>1.812443e-03</td>\n",
       "      <td>7.181013e-01</td>\n",
       "      <td>2.516558e-03</td>\n",
       "      <td>7.234796e-01</td>\n",
       "      <td>-1.136868e-02</td>\n",
       "    </tr>\n",
       "    <tr>\n",
       "      <th>std</th>\n",
       "      <td>1.084823e-01</td>\n",
       "      <td>8.157434e-03</td>\n",
       "      <td>1.089582e-01</td>\n",
       "      <td>1.121443e-02</td>\n",
       "      <td>1.085236e-01</td>\n",
       "      <td>6.038064e-03</td>\n",
       "      <td>1.090476e-01</td>\n",
       "      <td>8.447860e-03</td>\n",
       "      <td>1.085270e-01</td>\n",
       "      <td>5.931681e-03</td>\n",
       "      <td>...</td>\n",
       "      <td>1.082636e-01</td>\n",
       "      <td>5.877121e-03</td>\n",
       "      <td>1.097554e-01</td>\n",
       "      <td>9.015149e-03</td>\n",
       "      <td>1.081730e-01</td>\n",
       "      <td>5.896039e-03</td>\n",
       "      <td>1.104194e-01</td>\n",
       "      <td>8.948910e-03</td>\n",
       "      <td>1.087200e-01</td>\n",
       "      <td>9.839246e-01</td>\n",
       "    </tr>\n",
       "    <tr>\n",
       "      <th>min</th>\n",
       "      <td>0.000000e+00</td>\n",
       "      <td>0.000000e+00</td>\n",
       "      <td>0.000000e+00</td>\n",
       "      <td>0.000000e+00</td>\n",
       "      <td>0.000000e+00</td>\n",
       "      <td>0.000000e+00</td>\n",
       "      <td>0.000000e+00</td>\n",
       "      <td>0.000000e+00</td>\n",
       "      <td>0.000000e+00</td>\n",
       "      <td>0.000000e+00</td>\n",
       "      <td>...</td>\n",
       "      <td>0.000000e+00</td>\n",
       "      <td>0.000000e+00</td>\n",
       "      <td>0.000000e+00</td>\n",
       "      <td>0.000000e+00</td>\n",
       "      <td>0.000000e+00</td>\n",
       "      <td>0.000000e+00</td>\n",
       "      <td>0.000000e+00</td>\n",
       "      <td>0.000000e+00</td>\n",
       "      <td>0.000000e+00</td>\n",
       "      <td>-1.000000e+00</td>\n",
       "    </tr>\n",
       "    <tr>\n",
       "      <th>25%</th>\n",
       "      <td>6.800523e-01</td>\n",
       "      <td>6.071431e-05</td>\n",
       "      <td>6.780306e-01</td>\n",
       "      <td>8.796284e-05</td>\n",
       "      <td>6.800027e-01</td>\n",
       "      <td>5.025966e-05</td>\n",
       "      <td>6.776093e-01</td>\n",
       "      <td>7.311911e-05</td>\n",
       "      <td>6.801567e-01</td>\n",
       "      <td>6.360354e-05</td>\n",
       "      <td>...</td>\n",
       "      <td>6.817964e-01</td>\n",
       "      <td>6.907378e-05</td>\n",
       "      <td>6.747114e-01</td>\n",
       "      <td>1.072070e-04</td>\n",
       "      <td>6.822774e-01</td>\n",
       "      <td>7.070571e-05</td>\n",
       "      <td>6.726517e-01</td>\n",
       "      <td>1.073899e-04</td>\n",
       "      <td>6.790756e-01</td>\n",
       "      <td>-1.000000e+00</td>\n",
       "    </tr>\n",
       "    <tr>\n",
       "      <th>50%</th>\n",
       "      <td>7.347177e-01</td>\n",
       "      <td>2.203098e-04</td>\n",
       "      <td>7.329369e-01</td>\n",
       "      <td>3.210644e-04</td>\n",
       "      <td>7.346532e-01</td>\n",
       "      <td>1.598484e-04</td>\n",
       "      <td>7.325992e-01</td>\n",
       "      <td>2.334680e-04</td>\n",
       "      <td>7.347808e-01</td>\n",
       "      <td>1.709266e-04</td>\n",
       "      <td>...</td>\n",
       "      <td>7.361405e-01</td>\n",
       "      <td>3.636972e-04</td>\n",
       "      <td>7.301854e-01</td>\n",
       "      <td>5.669529e-04</td>\n",
       "      <td>7.366193e-01</td>\n",
       "      <td>3.989199e-04</td>\n",
       "      <td>7.284889e-01</td>\n",
       "      <td>6.461689e-04</td>\n",
       "      <td>7.338271e-01</td>\n",
       "      <td>0.000000e+00</td>\n",
       "    </tr>\n",
       "    <tr>\n",
       "      <th>75%</th>\n",
       "      <td>7.825070e-01</td>\n",
       "      <td>7.304611e-04</td>\n",
       "      <td>7.809972e-01</td>\n",
       "      <td>1.050973e-03</td>\n",
       "      <td>7.824294e-01</td>\n",
       "      <td>5.180902e-04</td>\n",
       "      <td>7.807327e-01</td>\n",
       "      <td>7.509827e-04</td>\n",
       "      <td>7.825340e-01</td>\n",
       "      <td>6.248188e-04</td>\n",
       "      <td>...</td>\n",
       "      <td>7.837173e-01</td>\n",
       "      <td>1.276992e-03</td>\n",
       "      <td>7.788038e-01</td>\n",
       "      <td>1.984609e-03</td>\n",
       "      <td>7.841344e-01</td>\n",
       "      <td>1.401519e-03</td>\n",
       "      <td>7.773553e-01</td>\n",
       "      <td>2.195181e-03</td>\n",
       "      <td>7.817519e-01</td>\n",
       "      <td>1.000000e+00</td>\n",
       "    </tr>\n",
       "    <tr>\n",
       "      <th>max</th>\n",
       "      <td>1.000000e+00</td>\n",
       "      <td>1.000000e+00</td>\n",
       "      <td>1.000000e+00</td>\n",
       "      <td>1.000000e+00</td>\n",
       "      <td>1.000000e+00</td>\n",
       "      <td>1.000000e+00</td>\n",
       "      <td>1.000000e+00</td>\n",
       "      <td>1.000000e+00</td>\n",
       "      <td>1.000000e+00</td>\n",
       "      <td>1.000000e+00</td>\n",
       "      <td>...</td>\n",
       "      <td>1.000000e+00</td>\n",
       "      <td>1.000000e+00</td>\n",
       "      <td>1.000000e+00</td>\n",
       "      <td>1.000000e+00</td>\n",
       "      <td>1.000000e+00</td>\n",
       "      <td>1.000000e+00</td>\n",
       "      <td>1.000000e+00</td>\n",
       "      <td>1.000000e+00</td>\n",
       "      <td>1.000000e+00</td>\n",
       "      <td>1.000000e+00</td>\n",
       "    </tr>\n",
       "  </tbody>\n",
       "</table>\n",
       "<p>8 rows × 42 columns</p>\n",
       "</div>"
      ],
      "text/plain": [
       "         BID_PRICE1     BID_QTY_1   ASK_PRICE_1     ASK_QTY_1    BID_PRICE2  \\\n",
       "count  4.523834e+06  4.523834e+06  4.523834e+06  4.523834e+06  4.523834e+06   \n",
       "mean   7.243821e-01  1.708144e-03  7.225771e-01  2.263201e-03  7.243012e-01   \n",
       "std    1.084823e-01  8.157434e-03  1.089582e-01  1.121443e-02  1.085236e-01   \n",
       "min    0.000000e+00  0.000000e+00  0.000000e+00  0.000000e+00  0.000000e+00   \n",
       "25%    6.800523e-01  6.071431e-05  6.780306e-01  8.796284e-05  6.800027e-01   \n",
       "50%    7.347177e-01  2.203098e-04  7.329369e-01  3.210644e-04  7.346532e-01   \n",
       "75%    7.825070e-01  7.304611e-04  7.809972e-01  1.050973e-03  7.824294e-01   \n",
       "max    1.000000e+00  1.000000e+00  1.000000e+00  1.000000e+00  1.000000e+00   \n",
       "\n",
       "          BID_QTY_2   ASK_PRICE_2     ASK_QTY_2    BID_PRICE3     BID_QTY_3  \\\n",
       "count  4.523834e+06  4.523834e+06  4.523834e+06  4.523834e+06  4.523834e+06   \n",
       "mean   1.370089e-03  7.222453e-01  1.767904e-03  7.243990e-01  1.441991e-03   \n",
       "std    6.038064e-03  1.090476e-01  8.447860e-03  1.085270e-01  5.931681e-03   \n",
       "min    0.000000e+00  0.000000e+00  0.000000e+00  0.000000e+00  0.000000e+00   \n",
       "25%    5.025966e-05  6.776093e-01  7.311911e-05  6.801567e-01  6.360354e-05   \n",
       "50%    1.598484e-04  7.325992e-01  2.334680e-04  7.347808e-01  1.709266e-04   \n",
       "75%    5.180902e-04  7.807327e-01  7.509827e-04  7.825340e-01  6.248188e-04   \n",
       "max    1.000000e+00  1.000000e+00  1.000000e+00  1.000000e+00  1.000000e+00   \n",
       "\n",
       "       ...    BID_PRICE9     BID_QTY_9   ASK_PRICE_9     ASK_QTY_9  \\\n",
       "count  ...  4.523834e+06  4.523834e+06  4.523834e+06  4.523834e+06   \n",
       "mean   ...  7.257778e-01  1.743569e-03  7.198844e-01  2.438937e-03   \n",
       "std    ...  1.082636e-01  5.877121e-03  1.097554e-01  9.015149e-03   \n",
       "min    ...  0.000000e+00  0.000000e+00  0.000000e+00  0.000000e+00   \n",
       "25%    ...  6.817964e-01  6.907378e-05  6.747114e-01  1.072070e-04   \n",
       "50%    ...  7.361405e-01  3.636972e-04  7.301854e-01  5.669529e-04   \n",
       "75%    ...  7.837173e-01  1.276992e-03  7.788038e-01  1.984609e-03   \n",
       "max    ...  1.000000e+00  1.000000e+00  1.000000e+00  1.000000e+00   \n",
       "\n",
       "        BID_PRICE10    BID_QTY_10  ASK_PRICE_10    ASK_QTY_10     MID_PRICE  \\\n",
       "count  4.523834e+06  4.523834e+06  4.523834e+06  4.523834e+06  4.523834e+06   \n",
       "mean   7.262220e-01  1.812443e-03  7.181013e-01  2.516558e-03  7.234796e-01   \n",
       "std    1.081730e-01  5.896039e-03  1.104194e-01  8.948910e-03  1.087200e-01   \n",
       "min    0.000000e+00  0.000000e+00  0.000000e+00  0.000000e+00  0.000000e+00   \n",
       "25%    6.822774e-01  7.070571e-05  6.726517e-01  1.073899e-04  6.790756e-01   \n",
       "50%    7.366193e-01  3.989199e-04  7.284889e-01  6.461689e-04  7.338271e-01   \n",
       "75%    7.841344e-01  1.401519e-03  7.773553e-01  2.195181e-03  7.817519e-01   \n",
       "max    1.000000e+00  1.000000e+00  1.000000e+00  1.000000e+00  1.000000e+00   \n",
       "\n",
       "       TREND_MID_PRICE  \n",
       "count     4.523834e+06  \n",
       "mean     -1.136868e-02  \n",
       "std       9.839246e-01  \n",
       "min      -1.000000e+00  \n",
       "25%      -1.000000e+00  \n",
       "50%       0.000000e+00  \n",
       "75%       1.000000e+00  \n",
       "max       1.000000e+00  \n",
       "\n",
       "[8 rows x 42 columns]"
      ]
     },
     "execution_count": 49,
     "metadata": {},
     "output_type": "execute_result"
    }
   ],
   "source": [
    "df_train_tmp.describe()"
   ]
  },
  {
   "cell_type": "code",
   "execution_count": 50,
   "id": "48511028",
   "metadata": {},
   "outputs": [
    {
     "data": {
      "text/html": [
       "<div>\n",
       "<style scoped>\n",
       "    .dataframe tbody tr th:only-of-type {\n",
       "        vertical-align: middle;\n",
       "    }\n",
       "\n",
       "    .dataframe tbody tr th {\n",
       "        vertical-align: top;\n",
       "    }\n",
       "\n",
       "    .dataframe thead th {\n",
       "        text-align: right;\n",
       "    }\n",
       "</style>\n",
       "<table border=\"1\" class=\"dataframe\">\n",
       "  <thead>\n",
       "    <tr style=\"text-align: right;\">\n",
       "      <th></th>\n",
       "      <th>BID_PRICE1</th>\n",
       "      <th>BID_QTY_1</th>\n",
       "      <th>ASK_PRICE_1</th>\n",
       "      <th>ASK_QTY_1</th>\n",
       "      <th>BID_PRICE2</th>\n",
       "      <th>BID_QTY_2</th>\n",
       "      <th>ASK_PRICE_2</th>\n",
       "      <th>ASK_QTY_2</th>\n",
       "      <th>BID_PRICE3</th>\n",
       "      <th>BID_QTY_3</th>\n",
       "      <th>...</th>\n",
       "      <th>BID_PRICE9</th>\n",
       "      <th>BID_QTY_9</th>\n",
       "      <th>ASK_PRICE_9</th>\n",
       "      <th>ASK_QTY_9</th>\n",
       "      <th>BID_PRICE10</th>\n",
       "      <th>BID_QTY_10</th>\n",
       "      <th>ASK_PRICE_10</th>\n",
       "      <th>ASK_QTY_10</th>\n",
       "      <th>MID_PRICE</th>\n",
       "      <th>TREND_MID_PRICE</th>\n",
       "    </tr>\n",
       "  </thead>\n",
       "  <tbody>\n",
       "    <tr>\n",
       "      <th>count</th>\n",
       "      <td>2.403120e+06</td>\n",
       "      <td>2.403120e+06</td>\n",
       "      <td>2.403120e+06</td>\n",
       "      <td>2.403120e+06</td>\n",
       "      <td>2.403120e+06</td>\n",
       "      <td>2.403120e+06</td>\n",
       "      <td>2.403120e+06</td>\n",
       "      <td>2.403120e+06</td>\n",
       "      <td>2.403120e+06</td>\n",
       "      <td>2.403120e+06</td>\n",
       "      <td>...</td>\n",
       "      <td>2.403120e+06</td>\n",
       "      <td>2.403120e+06</td>\n",
       "      <td>2.403120e+06</td>\n",
       "      <td>2.403120e+06</td>\n",
       "      <td>2.403120e+06</td>\n",
       "      <td>2.403120e+06</td>\n",
       "      <td>2.403120e+06</td>\n",
       "      <td>2.403120e+06</td>\n",
       "      <td>2.403120e+06</td>\n",
       "      <td>2.403120e+06</td>\n",
       "    </tr>\n",
       "    <tr>\n",
       "      <th>mean</th>\n",
       "      <td>6.368381e-01</td>\n",
       "      <td>3.321340e-03</td>\n",
       "      <td>6.356375e-01</td>\n",
       "      <td>2.428625e-03</td>\n",
       "      <td>6.378413e-01</td>\n",
       "      <td>2.005441e-03</td>\n",
       "      <td>6.347423e-01</td>\n",
       "      <td>1.648571e-03</td>\n",
       "      <td>6.380259e-01</td>\n",
       "      <td>2.251901e-03</td>\n",
       "      <td>...</td>\n",
       "      <td>6.381818e-01</td>\n",
       "      <td>3.580546e-03</td>\n",
       "      <td>6.317899e-01</td>\n",
       "      <td>2.818754e-03</td>\n",
       "      <td>6.384726e-01</td>\n",
       "      <td>3.810488e-03</td>\n",
       "      <td>6.317734e-01</td>\n",
       "      <td>2.985517e-03</td>\n",
       "      <td>6.362378e-01</td>\n",
       "      <td>-1.684061e-02</td>\n",
       "    </tr>\n",
       "    <tr>\n",
       "      <th>std</th>\n",
       "      <td>2.297081e-01</td>\n",
       "      <td>1.607259e-02</td>\n",
       "      <td>2.296689e-01</td>\n",
       "      <td>1.684924e-02</td>\n",
       "      <td>2.296841e-01</td>\n",
       "      <td>9.945994e-03</td>\n",
       "      <td>2.294848e-01</td>\n",
       "      <td>1.240785e-02</td>\n",
       "      <td>2.295775e-01</td>\n",
       "      <td>1.059630e-02</td>\n",
       "      <td>...</td>\n",
       "      <td>2.298247e-01</td>\n",
       "      <td>1.240958e-02</td>\n",
       "      <td>2.285872e-01</td>\n",
       "      <td>1.293700e-02</td>\n",
       "      <td>2.298414e-01</td>\n",
       "      <td>1.273624e-02</td>\n",
       "      <td>2.285437e-01</td>\n",
       "      <td>1.261906e-02</td>\n",
       "      <td>2.296884e-01</td>\n",
       "      <td>9.740754e-01</td>\n",
       "    </tr>\n",
       "    <tr>\n",
       "      <th>min</th>\n",
       "      <td>0.000000e+00</td>\n",
       "      <td>0.000000e+00</td>\n",
       "      <td>0.000000e+00</td>\n",
       "      <td>0.000000e+00</td>\n",
       "      <td>0.000000e+00</td>\n",
       "      <td>0.000000e+00</td>\n",
       "      <td>0.000000e+00</td>\n",
       "      <td>0.000000e+00</td>\n",
       "      <td>0.000000e+00</td>\n",
       "      <td>0.000000e+00</td>\n",
       "      <td>...</td>\n",
       "      <td>0.000000e+00</td>\n",
       "      <td>0.000000e+00</td>\n",
       "      <td>0.000000e+00</td>\n",
       "      <td>0.000000e+00</td>\n",
       "      <td>0.000000e+00</td>\n",
       "      <td>0.000000e+00</td>\n",
       "      <td>0.000000e+00</td>\n",
       "      <td>0.000000e+00</td>\n",
       "      <td>6.804393e-04</td>\n",
       "      <td>-1.000000e+00</td>\n",
       "    </tr>\n",
       "    <tr>\n",
       "      <th>25%</th>\n",
       "      <td>4.042867e-01</td>\n",
       "      <td>2.088198e-04</td>\n",
       "      <td>4.030849e-01</td>\n",
       "      <td>1.509219e-04</td>\n",
       "      <td>4.053288e-01</td>\n",
       "      <td>1.272300e-04</td>\n",
       "      <td>4.024708e-01</td>\n",
       "      <td>1.144943e-04</td>\n",
       "      <td>4.056657e-01</td>\n",
       "      <td>1.515221e-04</td>\n",
       "      <td>...</td>\n",
       "      <td>4.055556e-01</td>\n",
       "      <td>1.543044e-04</td>\n",
       "      <td>4.002485e-01</td>\n",
       "      <td>1.337446e-04</td>\n",
       "      <td>4.058957e-01</td>\n",
       "      <td>1.561917e-04</td>\n",
       "      <td>4.003163e-01</td>\n",
       "      <td>1.345886e-04</td>\n",
       "      <td>4.036858e-01</td>\n",
       "      <td>-1.000000e+00</td>\n",
       "    </tr>\n",
       "    <tr>\n",
       "      <th>50%</th>\n",
       "      <td>7.273758e-01</td>\n",
       "      <td>7.181528e-04</td>\n",
       "      <td>7.262107e-01</td>\n",
       "      <td>5.062537e-04</td>\n",
       "      <td>7.284580e-01</td>\n",
       "      <td>3.953544e-04</td>\n",
       "      <td>7.251502e-01</td>\n",
       "      <td>3.587667e-04</td>\n",
       "      <td>7.286119e-01</td>\n",
       "      <td>4.141808e-04</td>\n",
       "      <td>...</td>\n",
       "      <td>7.289116e-01</td>\n",
       "      <td>9.728148e-04</td>\n",
       "      <td>7.218708e-01</td>\n",
       "      <td>8.520520e-04</td>\n",
       "      <td>7.292517e-01</td>\n",
       "      <td>1.063620e-03</td>\n",
       "      <td>7.217892e-01</td>\n",
       "      <td>9.193313e-04</td>\n",
       "      <td>7.267933e-01</td>\n",
       "      <td>0.000000e+00</td>\n",
       "    </tr>\n",
       "    <tr>\n",
       "      <th>75%</th>\n",
       "      <td>8.347698e-01</td>\n",
       "      <td>2.228750e-03</td>\n",
       "      <td>8.335035e-01</td>\n",
       "      <td>1.508968e-03</td>\n",
       "      <td>8.357143e-01</td>\n",
       "      <td>1.211874e-03</td>\n",
       "      <td>8.325966e-01</td>\n",
       "      <td>1.022137e-03</td>\n",
       "      <td>8.358074e-01</td>\n",
       "      <td>1.350642e-03</td>\n",
       "      <td>...</td>\n",
       "      <td>8.362812e-01</td>\n",
       "      <td>3.030308e-03</td>\n",
       "      <td>8.287393e-01</td>\n",
       "      <td>2.612441e-03</td>\n",
       "      <td>8.366213e-01</td>\n",
       "      <td>3.147187e-03</td>\n",
       "      <td>8.287586e-01</td>\n",
       "      <td>2.714561e-03</td>\n",
       "      <td>8.340799e-01</td>\n",
       "      <td>1.000000e+00</td>\n",
       "    </tr>\n",
       "    <tr>\n",
       "      <th>max</th>\n",
       "      <td>1.000000e+00</td>\n",
       "      <td>1.000000e+00</td>\n",
       "      <td>1.000000e+00</td>\n",
       "      <td>1.000000e+00</td>\n",
       "      <td>1.000000e+00</td>\n",
       "      <td>1.000000e+00</td>\n",
       "      <td>1.000000e+00</td>\n",
       "      <td>1.000000e+00</td>\n",
       "      <td>1.000000e+00</td>\n",
       "      <td>1.000000e+00</td>\n",
       "      <td>...</td>\n",
       "      <td>1.000000e+00</td>\n",
       "      <td>1.000000e+00</td>\n",
       "      <td>1.000000e+00</td>\n",
       "      <td>1.000000e+00</td>\n",
       "      <td>1.000000e+00</td>\n",
       "      <td>1.000000e+00</td>\n",
       "      <td>1.000000e+00</td>\n",
       "      <td>1.000000e+00</td>\n",
       "      <td>1.000000e+00</td>\n",
       "      <td>1.000000e+00</td>\n",
       "    </tr>\n",
       "  </tbody>\n",
       "</table>\n",
       "<p>8 rows × 42 columns</p>\n",
       "</div>"
      ],
      "text/plain": [
       "         BID_PRICE1     BID_QTY_1   ASK_PRICE_1     ASK_QTY_1    BID_PRICE2  \\\n",
       "count  2.403120e+06  2.403120e+06  2.403120e+06  2.403120e+06  2.403120e+06   \n",
       "mean   6.368381e-01  3.321340e-03  6.356375e-01  2.428625e-03  6.378413e-01   \n",
       "std    2.297081e-01  1.607259e-02  2.296689e-01  1.684924e-02  2.296841e-01   \n",
       "min    0.000000e+00  0.000000e+00  0.000000e+00  0.000000e+00  0.000000e+00   \n",
       "25%    4.042867e-01  2.088198e-04  4.030849e-01  1.509219e-04  4.053288e-01   \n",
       "50%    7.273758e-01  7.181528e-04  7.262107e-01  5.062537e-04  7.284580e-01   \n",
       "75%    8.347698e-01  2.228750e-03  8.335035e-01  1.508968e-03  8.357143e-01   \n",
       "max    1.000000e+00  1.000000e+00  1.000000e+00  1.000000e+00  1.000000e+00   \n",
       "\n",
       "          BID_QTY_2   ASK_PRICE_2     ASK_QTY_2    BID_PRICE3     BID_QTY_3  \\\n",
       "count  2.403120e+06  2.403120e+06  2.403120e+06  2.403120e+06  2.403120e+06   \n",
       "mean   2.005441e-03  6.347423e-01  1.648571e-03  6.380259e-01  2.251901e-03   \n",
       "std    9.945994e-03  2.294848e-01  1.240785e-02  2.295775e-01  1.059630e-02   \n",
       "min    0.000000e+00  0.000000e+00  0.000000e+00  0.000000e+00  0.000000e+00   \n",
       "25%    1.272300e-04  4.024708e-01  1.144943e-04  4.056657e-01  1.515221e-04   \n",
       "50%    3.953544e-04  7.251502e-01  3.587667e-04  7.286119e-01  4.141808e-04   \n",
       "75%    1.211874e-03  8.325966e-01  1.022137e-03  8.358074e-01  1.350642e-03   \n",
       "max    1.000000e+00  1.000000e+00  1.000000e+00  1.000000e+00  1.000000e+00   \n",
       "\n",
       "       ...    BID_PRICE9     BID_QTY_9   ASK_PRICE_9     ASK_QTY_9  \\\n",
       "count  ...  2.403120e+06  2.403120e+06  2.403120e+06  2.403120e+06   \n",
       "mean   ...  6.381818e-01  3.580546e-03  6.317899e-01  2.818754e-03   \n",
       "std    ...  2.298247e-01  1.240958e-02  2.285872e-01  1.293700e-02   \n",
       "min    ...  0.000000e+00  0.000000e+00  0.000000e+00  0.000000e+00   \n",
       "25%    ...  4.055556e-01  1.543044e-04  4.002485e-01  1.337446e-04   \n",
       "50%    ...  7.289116e-01  9.728148e-04  7.218708e-01  8.520520e-04   \n",
       "75%    ...  8.362812e-01  3.030308e-03  8.287393e-01  2.612441e-03   \n",
       "max    ...  1.000000e+00  1.000000e+00  1.000000e+00  1.000000e+00   \n",
       "\n",
       "        BID_PRICE10    BID_QTY_10  ASK_PRICE_10    ASK_QTY_10     MID_PRICE  \\\n",
       "count  2.403120e+06  2.403120e+06  2.403120e+06  2.403120e+06  2.403120e+06   \n",
       "mean   6.384726e-01  3.810488e-03  6.317734e-01  2.985517e-03  6.362378e-01   \n",
       "std    2.298414e-01  1.273624e-02  2.285437e-01  1.261906e-02  2.296884e-01   \n",
       "min    0.000000e+00  0.000000e+00  0.000000e+00  0.000000e+00  6.804393e-04   \n",
       "25%    4.058957e-01  1.561917e-04  4.003163e-01  1.345886e-04  4.036858e-01   \n",
       "50%    7.292517e-01  1.063620e-03  7.217892e-01  9.193313e-04  7.267933e-01   \n",
       "75%    8.366213e-01  3.147187e-03  8.287586e-01  2.714561e-03  8.340799e-01   \n",
       "max    1.000000e+00  1.000000e+00  1.000000e+00  1.000000e+00  1.000000e+00   \n",
       "\n",
       "       TREND_MID_PRICE  \n",
       "count     2.403120e+06  \n",
       "mean     -1.684061e-02  \n",
       "std       9.740754e-01  \n",
       "min      -1.000000e+00  \n",
       "25%      -1.000000e+00  \n",
       "50%       0.000000e+00  \n",
       "75%       1.000000e+00  \n",
       "max       1.000000e+00  \n",
       "\n",
       "[8 rows x 42 columns]"
      ]
     },
     "execution_count": 50,
     "metadata": {},
     "output_type": "execute_result"
    }
   ],
   "source": [
    "df_test_tmp.describe()"
   ]
  },
  {
   "cell_type": "code",
   "execution_count": 51,
   "id": "c69b8f35",
   "metadata": {},
   "outputs": [],
   "source": [
    "df_test_tmp.to_csv('data/sets/test_set.csv',columns=list(df_test_tmp.columns.values))\n",
    "df_train_tmp.to_csv('data/sets/train_set.csv',columns=list(df_train_tmp.columns.values))"
   ]
  },
  {
   "cell_type": "markdown",
   "id": "98a192fc",
   "metadata": {},
   "source": [
    "## Set balancing"
   ]
  },
  {
   "cell_type": "code",
   "execution_count": 15,
   "id": "b45c0bf1",
   "metadata": {},
   "outputs": [
    {
     "data": {
      "image/png": "[encoded data removed]",
      "text/plain": [
       "<Figure size 1080x720 with 2 Axes>"
      ]
     },
     "metadata": {
      "needs_background": "light"
     },
     "output_type": "display_data"
    }
   ],
   "source": [
    "fig, (ax_train, ax_test) = plt.subplots(figsize=(15,10), ncols = 2)\n",
    "df_train['TREND_MID_PRICE'].value_counts().plot(kind='bar', ax=ax_train, fontsize=14)\n",
    "df_test['TREND_MID_PRICE'].value_counts().plot(kind='bar', ax=ax_test, fontsize=14)\n",
    "ax_train.set_ylabel('Observation counts', fontsize=14)\n",
    "ax_train.set_xlabel('Class', fontsize=14)\n",
    "ax_test.set_ylabel('Observation counts', fontsize=14)\n",
    "ax_test.set_xlabel('Class', fontsize=14)\n",
    "plt.show()"
   ]
  },
  {
   "cell_type": "markdown",
   "id": "17b07e35",
   "metadata": {},
   "source": [
    "## CNN with LSTM\n",
    "\n",
    "References: \n",
    "\n",
    "[1] Zhang, Z., Zohren, S. and Roberts, S. (2018) DeepLOB: Deep Convolutional Neural Networks for Limit Order Books. \n",
    "<br>\n",
    "[2] Iosifidis, A. et al. (2017) Forecasting Stock Prices from the Limit Order Book using Convolutional Neural Networks. \n",
    "\n",
    "CNN model:\n",
    "https://github.com/zcakhaa/DeepLOB-Deep-Convolutional-Neural-Networks-for-Limit-Order-Books\n",
    "\n",
    "### DATA PREPARATION"
   ]
  },
  {
   "cell_type": "code",
   "execution_count": 1,
   "id": "e38bcf2a",
   "metadata": {},
   "outputs": [],
   "source": [
    "# Load only the necessary modules to optimize memory usage\n",
    "from tqdm import tqdm\n",
    "import pandas as pd\n",
    "import numpy as np\n",
    "from tensorflow.keras.utils import to_categorical"
   ]
  },
  {
   "cell_type": "code",
   "execution_count": 2,
   "id": "e7bd341c",
   "metadata": {},
   "outputs": [],
   "source": [
    "df_train_tmp = pd.read_csv(f'data/sets/train_set.csv').set_index('Matching Time')\n",
    "df_test = pd.read_csv(f'data/sets/test_set.csv').set_index('Matching Time')"
   ]
  },
  {
   "cell_type": "code",
   "execution_count": 3,
   "id": "7c2e1b25",
   "metadata": {},
   "outputs": [],
   "source": [
    "def train_validation_split(data, train_end_index):\n",
    "    tmp = data.reset_index()\n",
    "    train = tmp.iloc[:train_end_index].set_index(['Matching Time'],drop=True)\n",
    "    validation = tmp[train_end_index:].set_index(['Matching Time'],drop=True)\n",
    "    return train, validation"
   ]
  },
  {
   "cell_type": "markdown",
   "id": "b96e9073",
   "metadata": {},
   "source": [
    "We use a reduced training and tests datasets since the data processing has to be carried out in matrixes of 100 x 40 "
   ]
  },
  {
   "cell_type": "code",
   "execution_count": 4,
   "id": "100a974c",
   "metadata": {},
   "outputs": [],
   "source": [
    "# Need to reduce the orgininal train set. My computer can't handle the processing with full size\n",
    "df_train_tmp_reduced = df_train_tmp.iloc[:int(len(df_train_tmp)*0.8)]\n",
    "df_test = df_test[:int(len(df_test)*0.7)]"
   ]
  },
  {
   "cell_type": "code",
   "execution_count": 5,
   "id": "2072f9e1",
   "metadata": {},
   "outputs": [],
   "source": [
    "train_to_val_ratio = 0.8\n",
    "train_index = int(len(df_train_tmp_reduced) * train_to_val_ratio)\n",
    "df_train, df_val = train_validation_split(df_train_tmp_reduced, train_index)"
   ]
  },
  {
   "cell_type": "code",
   "execution_count": 6,
   "id": "0fd103a0",
   "metadata": {},
   "outputs": [],
   "source": [
    "def data_classification(X, n_input):\n",
    "    [N, D] = X.shape # returns the dimension of the set. N_Observations x 40 \n",
    "    dataX = np.zeros((N - n_input + 1, n_input, D)) # Create N-H + 1 matrixes of n_input x 40 dimension\n",
    "    for i in tqdm(range(n_input, N + 1)):\n",
    "        dataX[i - n_input] = X[i - n_input:i, :]\n",
    "    return dataX.reshape(dataX.shape + (1,))"
   ]
  },
  {
   "cell_type": "markdown",
   "id": "93724913",
   "metadata": {},
   "source": [
    "The original paper used a depth of 100 in the LOB. Due to limitations in computational power, I am using a depth of 20 in my model. "
   ]
  },
  {
   "cell_type": "code",
   "execution_count": 7,
   "id": "ac95912f",
   "metadata": {},
   "outputs": [],
   "source": [
    "n_input = 20\n",
    "\n",
    "def prepare_x_y(data, n_input):\n",
    "    x = np.array(data.iloc[:, 2:-2])\n",
    "    y = data.iloc[:, -1:].values\n",
    "    y = y[n_input -1:]\n",
    "    x = data_classification(x, n_input)\n",
    "    y = to_categorical(y, 3)\n",
    "    return x, y"
   ]
  },
  {
   "cell_type": "code",
   "execution_count": 8,
   "id": "a68676cb",
   "metadata": {},
   "outputs": [
    {
     "name": "stderr",
     "output_type": "stream",
     "text": [
      "100%|████████████████████████████████████████████████████████████████████████| 2895234/2895234 [00:20<00:00, 141218.21it/s]\n"
     ]
    }
   ],
   "source": [
    "X_train_CNN, y_train_CNN = prepare_x_y(df_train, n_input)"
   ]
  },
  {
   "cell_type": "code",
   "execution_count": 9,
   "id": "5c73aa64",
   "metadata": {},
   "outputs": [
    {
     "name": "stderr",
     "output_type": "stream",
     "text": [
      "100%|██████████████████████████████████████████████████████████████████████████| 723795/723795 [00:03<00:00, 238884.51it/s]\n"
     ]
    }
   ],
   "source": [
    "X_val_CNN, y_val_CNN = prepare_x_y(df_val, n_input)"
   ]
  },
  {
   "cell_type": "code",
   "execution_count": 10,
   "id": "6a51be3e",
   "metadata": {},
   "outputs": [
    {
     "name": "stderr",
     "output_type": "stream",
     "text": [
      "100%|████████████████████████████████████████████████████████████████████████| 1682165/1682165 [00:10<00:00, 154134.09it/s]\n"
     ]
    }
   ],
   "source": [
    "X_test_CNN, y_test_CNN = prepare_x_y(df_test, n_input)"
   ]
  },
  {
   "cell_type": "code",
   "execution_count": 70,
   "id": "57fbed55",
   "metadata": {
    "scrolled": true
   },
   "outputs": [
    {
     "data": {
      "text/plain": [
       "array([[0., 1., 0.],\n",
       "       [0., 1., 0.],\n",
       "       [0., 1., 0.],\n",
       "       [0., 1., 0.],\n",
       "       [0., 1., 0.],\n",
       "       [0., 1., 0.],\n",
       "       [0., 1., 0.],\n",
       "       [0., 1., 0.],\n",
       "       [0., 1., 0.],\n",
       "       [0., 1., 0.],\n",
       "       [0., 1., 0.],\n",
       "       [0., 1., 0.],\n",
       "       [0., 1., 0.],\n",
       "       [0., 1., 0.],\n",
       "       [0., 1., 0.],\n",
       "       [0., 1., 0.],\n",
       "       [0., 1., 0.],\n",
       "       [0., 1., 0.],\n",
       "       [0., 0., 1.],\n",
       "       [0., 0., 1.],\n",
       "       [0., 0., 1.],\n",
       "       [0., 0., 1.],\n",
       "       [0., 0., 1.],\n",
       "       [0., 0., 1.],\n",
       "       [0., 0., 1.],\n",
       "       [0., 0., 1.],\n",
       "       [0., 0., 1.],\n",
       "       [0., 0., 1.],\n",
       "       [0., 0., 1.],\n",
       "       [0., 0., 1.],\n",
       "       [0., 0., 1.],\n",
       "       [0., 0., 1.],\n",
       "       [0., 0., 1.],\n",
       "       [0., 0., 1.],\n",
       "       [0., 0., 1.],\n",
       "       [0., 0., 1.],\n",
       "       [0., 0., 1.],\n",
       "       [0., 0., 1.],\n",
       "       [0., 0., 1.],\n",
       "       [0., 0., 1.],\n",
       "       [0., 0., 1.],\n",
       "       [0., 0., 1.],\n",
       "       [0., 0., 1.],\n",
       "       [0., 0., 1.],\n",
       "       [0., 0., 1.],\n",
       "       [0., 0., 1.],\n",
       "       [0., 0., 1.],\n",
       "       [0., 0., 1.],\n",
       "       [0., 0., 1.],\n",
       "       [0., 0., 1.]], dtype=float32)"
      ]
     },
     "execution_count": 70,
     "metadata": {},
     "output_type": "execute_result"
    }
   ],
   "source": [
    "(y_train_CNN[:50])"
   ]
  },
  {
   "cell_type": "code",
   "execution_count": 68,
   "id": "498076d3",
   "metadata": {
    "scrolled": true
   },
   "outputs": [
    {
     "data": {
      "text/plain": [
       "Matching Time\n",
       "2021-05-19T00:05:02.088Z    1.0\n",
       "2021-05-19T00:05:02.115Z    1.0\n",
       "2021-05-19T00:05:02.137Z    1.0\n",
       "2021-05-19T00:05:02.177Z    1.0\n",
       "2021-05-19T00:05:02.200Z    1.0\n",
       "2021-05-19T00:05:02.294Z    1.0\n",
       "2021-05-19T00:05:02.346Z    1.0\n",
       "2021-05-19T00:05:02.368Z    1.0\n",
       "2021-05-19T00:05:02.396Z    1.0\n",
       "2021-05-19T00:05:02.441Z    1.0\n",
       "2021-05-19T00:05:02.463Z    1.0\n",
       "2021-05-19T00:05:02.488Z    1.0\n",
       "2021-05-19T00:05:02.512Z    1.0\n",
       "2021-05-19T00:05:02.538Z    1.0\n",
       "2021-05-19T00:05:02.564Z    1.0\n",
       "2021-05-19T00:05:02.593Z    1.0\n",
       "2021-05-19T00:05:02.615Z    1.0\n",
       "2021-05-19T00:05:02.647Z    1.0\n",
       "2021-05-19T00:05:02.688Z   -1.0\n",
       "2021-05-19T00:05:02.727Z   -1.0\n",
       "2021-05-19T00:05:02.752Z   -1.0\n",
       "2021-05-19T00:05:02.777Z   -1.0\n",
       "2021-05-19T00:05:02.800Z   -1.0\n",
       "2021-05-19T00:05:02.825Z   -1.0\n",
       "2021-05-19T00:05:02.849Z   -1.0\n",
       "2021-05-19T00:05:02.875Z   -1.0\n",
       "2021-05-19T00:05:02.928Z   -1.0\n",
       "2021-05-19T00:05:02.951Z   -1.0\n",
       "2021-05-19T00:05:02.977Z   -1.0\n",
       "2021-05-19T00:05:03.003Z   -1.0\n",
       "2021-05-19T00:05:03.054Z   -1.0\n",
       "2021-05-19T00:05:03.085Z   -1.0\n",
       "2021-05-19T00:05:03.113Z   -1.0\n",
       "2021-05-19T00:05:03.138Z   -1.0\n",
       "2021-05-19T00:05:03.177Z   -1.0\n",
       "2021-05-19T00:05:03.201Z   -1.0\n",
       "2021-05-19T00:05:03.225Z   -1.0\n",
       "2021-05-19T00:05:03.251Z   -1.0\n",
       "2021-05-19T00:05:03.278Z   -1.0\n",
       "2021-05-19T00:05:03.304Z   -1.0\n",
       "2021-05-19T00:05:03.326Z   -1.0\n",
       "2021-05-19T00:05:03.353Z   -1.0\n",
       "2021-05-19T00:05:03.381Z   -1.0\n",
       "2021-05-19T00:05:03.404Z   -1.0\n",
       "2021-05-19T00:05:03.428Z   -1.0\n",
       "2021-05-19T00:05:03.455Z   -1.0\n",
       "2021-05-19T00:05:03.478Z   -1.0\n",
       "2021-05-19T00:05:03.503Z   -1.0\n",
       "2021-05-19T00:05:03.527Z   -1.0\n",
       "2021-05-19T00:05:03.553Z   -1.0\n",
       "Name: TREND_MID_PRICE, dtype: float64"
      ]
     },
     "execution_count": 68,
     "metadata": {},
     "output_type": "execute_result"
    }
   ],
   "source": [
    "(df_train[\"TREND_MID_PRICE\"][n_input - 1:69])"
   ]
  },
  {
   "cell_type": "markdown",
   "id": "c6a6281d",
   "metadata": {},
   "source": [
    "We can see the results. This will be the training, val and test sets that will be used to fit, validate and test the model. "
   ]
  },
  {
   "cell_type": "code",
   "execution_count": 11,
   "id": "e2d5c35d",
   "metadata": {},
   "outputs": [
    {
     "data": {
      "text/plain": [
       "(2895234, 20, 40, 1)"
      ]
     },
     "execution_count": 11,
     "metadata": {},
     "output_type": "execute_result"
    }
   ],
   "source": [
    "X_train_CNN.shape"
   ]
  },
  {
   "cell_type": "code",
   "execution_count": 12,
   "id": "92b46b1d",
   "metadata": {},
   "outputs": [
    {
     "data": {
      "text/plain": [
       "(2895234, 3)"
      ]
     },
     "execution_count": 12,
     "metadata": {},
     "output_type": "execute_result"
    }
   ],
   "source": [
    "y_train_CNN.shape"
   ]
  },
  {
   "cell_type": "code",
   "execution_count": 13,
   "id": "0a335996",
   "metadata": {},
   "outputs": [
    {
     "data": {
      "text/plain": [
       "(723795, 20, 40, 1)"
      ]
     },
     "execution_count": 13,
     "metadata": {},
     "output_type": "execute_result"
    }
   ],
   "source": [
    "X_val_CNN.shape"
   ]
  },
  {
   "cell_type": "code",
   "execution_count": 14,
   "id": "a3a2f4d6",
   "metadata": {},
   "outputs": [
    {
     "data": {
      "text/plain": [
       "(723795, 3)"
      ]
     },
     "execution_count": 14,
     "metadata": {},
     "output_type": "execute_result"
    }
   ],
   "source": [
    "y_val_CNN.shape"
   ]
  },
  {
   "cell_type": "markdown",
   "id": "314fbe53",
   "metadata": {},
   "source": [
    "### Model definition\n",
    "\n",
    "We create the model described by Zhang (2018) adapted to peform hyperparameter selection. The hyperparameters to be tested are:\n",
    "\n",
    "- Learning rate: Used in order to control the step's size in gradient descent. \n",
    "- Dropout rate: Parameter used to control overfitting. It randomly drops units in the NN accordingly to the rate specified.\n",
    "- Alpha rate: Avoids \"Dying ReLu\" problem."
   ]
  },
  {
   "cell_type": "code",
   "execution_count": 52,
   "id": "a01171b8",
   "metadata": {},
   "outputs": [],
   "source": [
    "from tensorflow.keras.models import Sequential\n",
    "from keras.layers import Flatten, Dense, Dropout, Activation, Input, LSTM, Reshape, Conv2D, MaxPooling2D, LeakyReLU, concatenate\n",
    "from keras.models import load_model, Model\n",
    "from keras_tuner.tuners import RandomSearch\n",
    "from keras.callbacks import EarlyStopping\n",
    "from keras.optimizers import Adam\n",
    "from sklearn.metrics import classification_report, accuracy_score\n",
    "\n",
    "import keras_tuner\n",
    "import pickle"
   ]
  },
  {
   "cell_type": "code",
   "execution_count": 43,
   "id": "abbe3950",
   "metadata": {},
   "outputs": [],
   "source": [
    "def keras_model_CNN(n_observation, n_predictors, n_layers, dropout_rate, learning_rate, alpha_rate):\n",
    "    input_lmd = Input(shape=(n_observation, n_predictors, 1))\n",
    "    \n",
    "    # Build the convolutional block\n",
    "    conv_first1 = Conv2D(32, (1, 2), strides=(1, 2))(input_lmd)\n",
    "    conv_first1 = LeakyReLU(alpha=alpha_rate)(conv_first1)\n",
    "    conv_first1 = Conv2D(32, (4, 1), padding='same')(conv_first1)\n",
    "    conv_first1 = LeakyReLU(alpha=alpha_rate)(conv_first1)\n",
    "    conv_first1 = Conv2D(32, (4, 1), padding='same')(conv_first1)\n",
    "    conv_first1 = LeakyReLU(alpha=alpha_rate)(conv_first1)\n",
    "\n",
    "    conv_first1 = Conv2D(32, (1, 2), strides=(1, 2))(conv_first1)\n",
    "    conv_first1 = LeakyReLU(alpha=alpha_rate)(conv_first1)\n",
    "    conv_first1 = Conv2D(32, (4, 1), padding='same')(conv_first1)\n",
    "    conv_first1 = LeakyReLU(alpha=alpha_rate)(conv_first1)\n",
    "    conv_first1 = Conv2D(32, (4, 1), padding='same')(conv_first1)\n",
    "    conv_first1 = LeakyReLU(alpha=alpha_rate)(conv_first1)\n",
    "\n",
    "    conv_first1 = Conv2D(32, (1, 10))(conv_first1)\n",
    "    conv_first1 = LeakyReLU(alpha=alpha_rate)(conv_first1)\n",
    "    conv_first1 = Conv2D(32, (4, 1), padding='same')(conv_first1)\n",
    "    conv_first1 = LeakyReLU(alpha=alpha_rate)(conv_first1)\n",
    "    conv_first1 = Conv2D(32, (4, 1), padding='same')(conv_first1)\n",
    "    conv_first1 = LeakyReLU(alpha=alpha_rate)(conv_first1)\n",
    "    \n",
    "    # build the inception module\n",
    "    convsecond_1 = Conv2D(64, (1, 1), padding='same')(conv_first1)\n",
    "    convsecond_1 = LeakyReLU(alpha=alpha_rate)(convsecond_1)\n",
    "    convsecond_1 = Conv2D(64, (3, 1), padding='same')(convsecond_1)\n",
    "    convsecond_1 = LeakyReLU(alpha=alpha_rate)(convsecond_1)\n",
    "\n",
    "    convsecond_2 = Conv2D(64, (1, 1), padding='same')(conv_first1)\n",
    "    convsecond_2 = LeakyReLU(alpha=alpha_rate)(convsecond_2)\n",
    "    convsecond_2 = Conv2D(64, (5, 1), padding='same')(convsecond_2)\n",
    "    convsecond_2 = LeakyReLU(alpha=alpha_rate)(convsecond_2)\n",
    "\n",
    "    convsecond_3 = MaxPooling2D((3, 1), strides=(1, 1), padding='same')(conv_first1)\n",
    "    convsecond_3 = Conv2D(64, (1, 1), padding='same')(convsecond_3)\n",
    "    convsecond_3 = LeakyReLU(alpha=0.01)(convsecond_3)\n",
    "    \n",
    "    convsecond_output = concatenate([convsecond_1, convsecond_2, convsecond_3], axis=3)\n",
    "    conv_reshape = Reshape((int(convsecond_output.shape[1]), int(convsecond_output.shape[3])))(convsecond_output)\n",
    "    conv_reshape = Dropout(rate=dropout_rate, noise_shape=(None, 1, int(conv_reshape.shape[2])))(conv_reshape, training=True)\n",
    "\n",
    "    # Build the last LSTM layer\n",
    "    conv_lstm = LSTM(n_layers)(conv_reshape)\n",
    "\n",
    "    # Build the output layer\n",
    "    out = Dense(3, activation='softmax')(conv_lstm)\n",
    "    model = Model(inputs=input_lmd, outputs=out)\n",
    "    adam = Adam(learning_rate=learning_rate)\n",
    "    model.compile(optimizer=adam, loss='categorical_crossentropy', metrics=['accuracy'])\n",
    "\n",
    "    return model\n",
    "\n",
    "class HyperRegressorCNN(keras_tuner.HyperModel):\n",
    "    def __init__(self, n_layers, n_observation, n_predictors, *args, **kwargs):\n",
    "        # Pass all arguments except number of layers, n_observation and n_predictors to parent\n",
    "        self.n_layers = n_layers\n",
    "        self.n_observation = n_observation\n",
    "        self.n_predictors = n_predictors\n",
    "        super().__init__(*args, **kwargs)\n",
    "\n",
    "    def build(self, hp):\n",
    "        # Hyperparameters choices and ranges definition \n",
    "        learning_rate = hp.Float(\"learning_rate\", min_value=1e-4, max_value=1e-2, sampling=\"log\")\n",
    "        dropout_rate = hp.Float('dropout_rate', min_value=0.2, max_value=0.5, default=0.25, step=0.1)\n",
    "        alpha_rate = hp.Float(\"alpha_rate\", min_value=1e-4, max_value=1e-1, sampling=\"log\")\n",
    "        return keras_model_CNN(\n",
    "            self.n_observation, \n",
    "            self.n_predictors,\n",
    "            self.n_layers,\n",
    "            dropout_rate, \n",
    "            learning_rate, \n",
    "            alpha_rate\n",
    "        )\n",
    "    \n",
    "    def fit(self, hp, model, x, y, validation_data, **kwargs):\n",
    "        model.fit(x, y, **kwargs)\n",
    "        x_val, y_val = validation_data\n",
    "        y_pred = model.predict(x_val)\n",
    "        # Return a single float to minimize.\n",
    "        return -np.sum(y_val * np.log(y_pred)) # Categorical cross entropy loss\n"
   ]
  },
  {
   "cell_type": "code",
   "execution_count": 17,
   "id": "7d70aec2",
   "metadata": {},
   "outputs": [],
   "source": [
    "########################\n",
    "# CONSTANTS DEFINITION #\n",
    "########################\n",
    "\n",
    "MAX_TRIALS = 3\n",
    "EXECUTION_PER_TRIAL = 1\n",
    "EPOCHS = 3\n",
    "BATCH_SIZE = 1024\n",
    "\n",
    "n_observation = X_train_CNN.shape[1]\n",
    "n_predictors = X_train_CNN.shape[2]\n",
    "n_layers = 64\n",
    "\n",
    "def tune_model():\n",
    "    # Early stop if loss does not improve after 3 epochs\n",
    "    callback = EarlyStopping(monitor='loss', patience=3)\n",
    "    tuner = RandomSearch(\n",
    "        hypermodel=HyperRegressorCNN(n_layers, n_observation, n_predictors),\n",
    "        max_trials=MAX_TRIALS,\n",
    "        executions_per_trial=EXECUTION_PER_TRIAL,\n",
    "        overwrite=True,\n",
    "        directory='IA_QR',\n",
    "        project_name='CNN'\n",
    "    )\n",
    "    tuner.search(\n",
    "      X_train_CNN, \n",
    "      y_train_CNN,\n",
    "      batch_size=BATCH_SIZE,\n",
    "      epochs=EPOCHS,\n",
    "      validation_data=(X_val_CNN, y_val_CNN),\n",
    "      callbacks=[callback]\n",
    "    )\n",
    "    return tuner"
   ]
  },
  {
   "cell_type": "code",
   "execution_count": 18,
   "id": "9c4f514b",
   "metadata": {},
   "outputs": [
    {
     "name": "stdout",
     "output_type": "stream",
     "text": [
      "Trial 3 Complete [01h 35m 42s]\n",
      "default_objective: 434523.8125\n",
      "\n",
      "Best default_objective So Far: 413296.40625\n",
      "Total elapsed time: 04h 45m 47s\n",
      "INFO:tensorflow:Oracle triggered exit\n"
     ]
    }
   ],
   "source": [
    "tuner_CNN = tune_model()"
   ]
  },
  {
   "cell_type": "code",
   "execution_count": 19,
   "id": "dc5d8399",
   "metadata": {},
   "outputs": [],
   "source": [
    "with open('models/cnn/tuner_CNN.pkl','wb') as f:\n",
    "    pickle.dump(tuner_CNN,f)"
   ]
  },
  {
   "cell_type": "code",
   "execution_count": 22,
   "id": "218fb8ac",
   "metadata": {},
   "outputs": [],
   "source": [
    "with open('models/cnn/tuner_CNN.pkl','rb') as f:\n",
    "    tuner_CNN = pickle.load(f)"
   ]
  },
  {
   "cell_type": "code",
   "execution_count": 44,
   "id": "1dca35ea",
   "metadata": {},
   "outputs": [
    {
     "name": "stdout",
     "output_type": "stream",
     "text": [
      "{'learning_rate': 0.0010507016430075337, 'dropout_rate': 0.2, 'alpha_rate': 0.023902603494278453}\n"
     ]
    }
   ],
   "source": [
    "best_hps_CNN = tuner_CNN.get_best_hyperparameters()[0].values\n",
    "print(best_hps_CNN)\n",
    "CNN_model = keras_model_CNN(n_observation, n_predictors, n_layers, **best_hps_CNN) # Rebuild model"
   ]
  },
  {
   "cell_type": "code",
   "execution_count": 49,
   "id": "282367bd",
   "metadata": {
    "scrolled": true
   },
   "outputs": [
    {
     "name": "stdout",
     "output_type": "stream",
     "text": [
      "Epoch 1/12\n",
      "2828/2828 [==============================] - 1935s 683ms/step - loss: 0.6633 - accuracy: 0.6435 - val_loss: 0.5920 - val_accuracy: 0.7229\n",
      "Epoch 2/12\n",
      "2828/2828 [==============================] - 1935s 684ms/step - loss: 0.5406 - accuracy: 0.7452 - val_loss: 0.5900 - val_accuracy: 0.7273\n",
      "Epoch 3/12\n",
      "2828/2828 [==============================] - 1913s 676ms/step - loss: 0.5179 - accuracy: 0.7583 - val_loss: 0.5725 - val_accuracy: 0.7330\n",
      "Epoch 4/12\n",
      "2828/2828 [==============================] - 1915s 677ms/step - loss: 0.5034 - accuracy: 0.7665 - val_loss: 0.5762 - val_accuracy: 0.7320\n",
      "Epoch 5/12\n",
      "2828/2828 [==============================] - 1924s 680ms/step - loss: 0.4914 - accuracy: 0.7731 - val_loss: 0.5828 - val_accuracy: 0.7323\n",
      "Epoch 6/12\n",
      "2828/2828 [==============================] - 1922s 679ms/step - loss: 0.4806 - accuracy: 0.7793 - val_loss: 0.5771 - val_accuracy: 0.7326\n",
      "Epoch 7/12\n",
      "2828/2828 [==============================] - 1926s 681ms/step - loss: 0.4708 - accuracy: 0.7848 - val_loss: 0.5904 - val_accuracy: 0.7303\n",
      "Epoch 8/12\n",
      "2828/2828 [==============================] - 1929s 682ms/step - loss: 0.4631 - accuracy: 0.7893 - val_loss: 0.5916 - val_accuracy: 0.7242\n",
      "Epoch 9/12\n",
      "2828/2828 [==============================] - 1920s 679ms/step - loss: 0.4546 - accuracy: 0.7939 - val_loss: 0.6034 - val_accuracy: 0.7253\n",
      "Epoch 10/12\n",
      "2828/2828 [==============================] - 1932s 683ms/step - loss: 0.4475 - accuracy: 0.7977 - val_loss: 0.6334 - val_accuracy: 0.7197\n",
      "Epoch 11/12\n",
      "2828/2828 [==============================] - 2064s 730ms/step - loss: 0.4412 - accuracy: 0.8014 - val_loss: 0.6169 - val_accuracy: 0.7204\n",
      "Epoch 12/12\n",
      "2828/2828 [==============================] - 2307s 815ms/step - loss: 0.4354 - accuracy: 0.8046 - val_loss: 0.6217 - val_accuracy: 0.7168\n"
     ]
    },
    {
     "data": {
      "text/plain": [
       "<keras.callbacks.History at 0x1a6080820>"
      ]
     },
     "execution_count": 49,
     "metadata": {},
     "output_type": "execute_result"
    }
   ],
   "source": [
    "callback = EarlyStopping(monitor='loss', patience=3)\n",
    "CNN_model.fit(X_train_CNN, y_train_CNN, validation_data=(X_val_CNN, y_val_CNN), \n",
    "            epochs=12, batch_size=1024, verbose=1, callbacks=callback)"
   ]
  },
  {
   "cell_type": "code",
   "execution_count": 50,
   "id": "7f949a2e",
   "metadata": {},
   "outputs": [
    {
     "name": "stderr",
     "output_type": "stream",
     "text": [
      "WARNING:absl:Found untraced functions such as _jit_compiled_convolution_op, _jit_compiled_convolution_op, _jit_compiled_convolution_op, _jit_compiled_convolution_op, _jit_compiled_convolution_op while saving (showing 5 of 16). These functions will not be directly callable after loading.\n"
     ]
    },
    {
     "name": "stdout",
     "output_type": "stream",
     "text": [
      "INFO:tensorflow:Assets written to: ram://1df60988-2d76-47c0-bce6-9f7b2c110cdb/assets\n"
     ]
    },
    {
     "name": "stderr",
     "output_type": "stream",
     "text": [
      "INFO:tensorflow:Assets written to: ram://1df60988-2d76-47c0-bce6-9f7b2c110cdb/assets\n"
     ]
    }
   ],
   "source": [
    "with open('models/cnn/tuner_CNN_refitted.pkl','wb') as f:\n",
    "    pickle.dump(CNN_model,f)"
   ]
  },
  {
   "cell_type": "code",
   "execution_count": null,
   "id": "d141c064",
   "metadata": {},
   "outputs": [],
   "source": [
    "labels = ['STATIONARY', 'POSITIVE', 'NEGATIVE']\n",
    "y_pred_CNN = CNN_model.predict(X_test_CNN)"
   ]
  },
  {
   "cell_type": "code",
   "execution_count": 71,
   "id": "f92ac4e1",
   "metadata": {},
   "outputs": [
    {
     "name": "stdout",
     "output_type": "stream",
     "text": [
      "accuracy_score: 0.706431889856227\n",
      "              precision    recall  f1-score   support\n",
      "\n",
      "  STATIONARY     0.3435    0.2434    0.2849     95048\n",
      "    NEGATIVE     0.7115    0.7399    0.7254    777975\n",
      "    POSITIVE     0.7317    0.7287    0.7302    809142\n",
      "\n",
      "    accuracy                         0.7064   1682165\n",
      "   macro avg     0.5956    0.5706    0.5802   1682165\n",
      "weighted avg     0.7004    0.7064    0.7028   1682165\n",
      "\n"
     ]
    }
   ],
   "source": [
    "print('accuracy_score:', accuracy_score(np.argmax(y_test_CNN, axis=1), np.argmax(y_pred_CNN, axis=1)))\n",
    "print(classification_report(np.argmax(y_test_CNN, axis=1), np.argmax(y_pred_CNN, axis=1), digits=4, target_names=labels))"
   ]
  },
  {
   "cell_type": "markdown",
   "id": "0ecf9a07",
   "metadata": {},
   "source": [
    "Good performance in classes negative and positive. However, poor in stationay. This class is highly imbalanced. My experience in pass classification problems using cross entropy loss, have suggested that the loss is optimized for mayority classes. Let's try to increase the number of observations belonging to the stationary class. This could be done by changing the time horizon."
   ]
  },
  {
   "cell_type": "code",
   "execution_count": null,
   "id": "313cabe3",
   "metadata": {},
   "outputs": [],
   "source": []
  }
 ],
 "metadata": {
  "kernelspec": {
   "display_name": "Python 3 (ipykernel)",
   "language": "python",
   "name": "python3"
  },
  "language_info": {
   "codemirror_mode": {
    "name": "ipython",
    "version": 3
   },
   "file_extension": ".py",
   "mimetype": "text/x-python",
   "name": "python",
   "nbconvert_exporter": "python",
   "pygments_lexer": "ipython3",
   "version": "3.9.12"
  }
 },
 "nbformat": 4,
 "nbformat_minor": 5
}
